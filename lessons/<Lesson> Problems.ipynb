{
 "cells": [
  {
   "cell_type": "markdown",
   "metadata": {},
   "source": [
    "### First Problem\n",
    "Find the most frequency of student's height in a class"
   ]
  },
  {
   "cell_type": "code",
   "execution_count": 8,
   "metadata": {
    "collapsed": true
   },
   "outputs": [],
   "source": [
    "data = [150, 170, 177, 170, 176, 165, 170, 165, 177, 170]"
   ]
  },
  {
   "cell_type": "markdown",
   "metadata": {
    "collapsed": true
   },
   "source": [
    "### Second Problem\n",
    "Write a program to exchange money into Thai bath notes and coins\n",
    "*needs the most effective exchange\n",
    "(Least bath notes and coins)"
   ]
  },
  {
   "cell_type": "markdown",
   "metadata": {
    "collapsed": true
   },
   "source": [
    "## Test Data\n",
    "Input : 6579.25 <br/><br/>\n",
    "Output :\n",
    "1. Th = 6\n",
    "- Fiv_Hu = 5\n",
    "- Hu = 0\n",
    "- fifty = 1\n",
    "- twenty = 1\n",
    "- 10c = 0\n",
    "- 5c = 1\n",
    "- 2c = 2\n",
    "- 1c = 0\n",
    "- .5c = 0\n",
    "- .25c = 1"
   ]
  }
 ],
 "metadata": {
  "kernelspec": {
   "display_name": "Python 3",
   "language": "python",
   "name": "python3"
  },
  "language_info": {
   "codemirror_mode": {
    "name": "ipython",
    "version": 3
   },
   "file_extension": ".py",
   "mimetype": "text/x-python",
   "name": "python",
   "nbconvert_exporter": "python",
   "pygments_lexer": "ipython3",
   "version": "3.6.5"
  }
 },
 "nbformat": 4,
 "nbformat_minor": 2
}
