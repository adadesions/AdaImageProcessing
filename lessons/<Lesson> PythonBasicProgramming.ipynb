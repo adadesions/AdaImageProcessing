{
 "cells": [
  {
   "cell_type": "markdown",
   "metadata": {},
   "source": [
    "<img src=\"../resource/image/adf_logo.jpg\" width=\"250\" height=\"auto\" style=\"margin: 0 auto\"/>"
   ]
  },
  {
   "cell_type": "markdown",
   "metadata": {},
   "source": [
    "<h1>Hello, Welcome to AdaFactor Live Python Programming session</h1>\n",
    "<p>I hope you will enjoy my session today. First of all today we'are going to talking about a famous programming language\n",
    "    well known as Python. Ok let's start!!\n",
    "</p>\n",
    "<h3>Topics for the session</h3>\n",
    "<ul>\n",
    "    <li>1. Your first application in python</li>\n",
    "    <li>2. Decision statement </li>\n",
    "    <li>3. Repeator </li>\n",
    "    <li>4. String methods </li>\n",
    "    <li>5. How to declare function  </li>\n",
    "    <li>6. Class in python  </li>\n",
    "</ul>\n"
   ]
  },
  {
   "cell_type": "markdown",
   "metadata": {},
   "source": [
    "## 1. Your first application in python\n",
    "<p> Noting special just a Hello world application, I know you love it^^</p>"
   ]
  },
  {
   "cell_type": "code",
   "execution_count": 1,
   "metadata": {},
   "outputs": [
    {
     "name": "stdout",
     "output_type": "stream",
     "text": [
      "Hello, World!\n"
     ]
    }
   ],
   "source": [
    "# YOU CODE GOES HERE!\n",
    "# Syntax print(\"String here\")\n",
    "print('Hello, World!')"
   ]
  },
  {
   "cell_type": "markdown",
   "metadata": {},
   "source": [
    "## 2. Decision Statement\n",
    "<p>In python it has decision statement like other programming language</p>\n",
    "\n",
    "#### IF...ELSE Statement\n"
   ]
  },
  {
   "cell_type": "code",
   "execution_count": 3,
   "metadata": {},
   "outputs": [
    {
     "name": "stdout",
     "output_type": "stream",
     "text": [
      "Not Apple\n"
     ]
    }
   ],
   "source": [
    "'''\n",
    "Syntax \n",
    "if expression :\n",
    "    code statement 1\n",
    "else:\n",
    "    code statement 2\n",
    "'''\n",
    "a = 10\n",
    "if a >= 10 :\n",
    "    print('Apple')\n",
    "else:\n",
    "    print('Not Apple')\n"
   ]
  },
  {
   "cell_type": "markdown",
   "metadata": {},
   "source": [
    "#### IF...ELSEIF...ELSE"
   ]
  },
  {
   "cell_type": "code",
   "execution_count": 7,
   "metadata": {
    "scrolled": false
   },
   "outputs": [
    {
     "name": "stdout",
     "output_type": "stream",
     "text": [
      "Please enter your name:Ada\n",
      "Hello, Ada\n",
      "How old are you?26\n",
      "You are so cool!\n"
     ]
    }
   ],
   "source": [
    "'''\n",
    "Syntax \n",
    "if expression 1 :\n",
    "    code statement 1\n",
    "elif expression 2 :\n",
    "    code statement 2\n",
    "else:\n",
    "    code statment 3\n",
    "'''\n",
    "name = input('Please enter your name:')\n",
    "print('Hello,', name)\n",
    "\n",
    "# Age Input\n",
    "# if age > 60: \"You have to rest\"\n",
    "# else: \"oh! let's work harder!!\"\n",
    "age = input('How old are you?')\n",
    "age = int(age) # str --> int\n",
    "if age > 60:\n",
    "    print(\"You have rest.\")\n",
    "elif age == 26:\n",
    "    print('You are so cool!')\n",
    "else:\n",
    "    print('Oh! let\\'s work harder')"
   ]
  },
  {
   "cell_type": "markdown",
   "metadata": {},
   "source": [
    "<strong>That too easy right? in my view, all of you're knew a decision statment. let's move to the next step of basic programming </strong>"
   ]
  },
  {
   "cell_type": "markdown",
   "metadata": {},
   "source": [
    "### 3. Repeator make computer like computer\n",
    "<p>(or as know as a loop)</p>\n",
    "\n",
    "In python, we have only 2 keywords of loop\n",
    "<ul>\n",
    "    <li>For...loop</li>\n",
    "    <li>While...loop</li>\n",
    "</ul>\n",
    "\n",
    "but only 2 make a lots of fun!!\n",
    "\n",
    "#### While loop"
   ]
  },
  {
   "cell_type": "code",
   "execution_count": 8,
   "metadata": {},
   "outputs": [
    {
     "name": "stdout",
     "output_type": "stream",
     "text": [
      "Count: 0\n",
      "Count: 1\n",
      "Count: 2\n",
      "Count: 3\n",
      "Count: 4\n"
     ]
    }
   ],
   "source": [
    "'''\n",
    "Syntax\n",
    "while expression:\n",
    "    code statement\n",
    "'''\n",
    "count = 0\n",
    "while count < 5:\n",
    "    print('Count:', count)\n",
    "    count += 1"
   ]
  },
  {
   "cell_type": "code",
   "execution_count": 22,
   "metadata": {},
   "outputs": [
    {
     "name": "stdout",
     "output_type": "stream",
     "text": [
      "sum 1 --> 100 = 5000000050000000\n"
     ]
    }
   ],
   "source": [
    "i = 1\n",
    "sum = 0\n",
    "while i <= 100000000:\n",
    "    sum = sum + i\n",
    "    i = i + 1\n",
    "print('sum 1 --> 100 =', sum)"
   ]
  },
  {
   "cell_type": "code",
   "execution_count": 23,
   "metadata": {},
   "outputs": [
    {
     "name": "stdout",
     "output_type": "stream",
     "text": [
      "result = 5000000050000000\n"
     ]
    }
   ],
   "source": [
    "n = 100000000\n",
    "result = n*(n+1)//2\n",
    "print('result =',result)"
   ]
  },
  {
   "cell_type": "markdown",
   "metadata": {},
   "source": [
    "##### While loop with Else keyword"
   ]
  },
  {
   "cell_type": "code",
   "execution_count": 8,
   "metadata": {},
   "outputs": [
    {
     "name": "stdout",
     "output_type": "stream",
     "text": [
      "Count: 0\n",
      "Count: 1\n",
      "Count: 2\n",
      "Count: 3\n",
      "Count: 4\n",
      "End count 5\n"
     ]
    }
   ],
   "source": [
    "'''\n",
    "Syntax\n",
    "while expression:\n",
    "    code statement 1\n",
    "else:\n",
    "    code statment 2\n",
    "'''\n",
    "count = 0\n",
    "while count < 5:\n",
    "    print('Count:', count)\n",
    "    count += 1\n",
    "else:\n",
    "    print('End count', count)"
   ]
  },
  {
   "cell_type": "markdown",
   "metadata": {},
   "source": [
    "#### For loop (The real fun here)\n",
    "##### 1. Regular range loop"
   ]
  },
  {
   "cell_type": "code",
   "execution_count": 25,
   "metadata": {},
   "outputs": [
    {
     "name": "stdout",
     "output_type": "stream",
     "text": [
      "1\n",
      "2\n",
      "3\n",
      "4\n",
      "a\n",
      "d\n",
      "a\n"
     ]
    }
   ],
   "source": [
    "'''\n",
    "Syntax\n",
    "for variables in iterable_item:\n",
    "    code statement\n",
    "'''\n",
    "data = [1, 2, 3, 4, 'a', 'd', 'a']\n",
    "for d in data:\n",
    "    print(d)\n"
   ]
  },
  {
   "cell_type": "code",
   "execution_count": 38,
   "metadata": {},
   "outputs": [
    {
     "name": "stdout",
     "output_type": "stream",
     "text": [
      "0 -> n\n",
      "0\n",
      "1\n",
      "2\n",
      "3\n",
      "4\n",
      "a1 --> an\n",
      "5\n",
      "6\n",
      "7\n",
      "8\n",
      "9\n",
      "[0, 1, 2, 3, 4, 5, 6, 7, 8, 9]\n",
      "even: [0, 2, 4, 6, 8]\n"
     ]
    }
   ],
   "source": [
    "print('0 -> n')\n",
    "for i in range(5):\n",
    "    print(i)\n",
    "    \n",
    "print('a1 --> an')\n",
    "for i in range(5, 10):\n",
    "    print(i)\n",
    "    \n",
    "x = [i for i in range(10)]\n",
    "print(x)\n",
    "\n",
    "even = [i for i in range(10) if i%2 == 0]\n",
    "print('even:', even)"
   ]
  },
  {
   "cell_type": "markdown",
   "metadata": {},
   "source": [
    "##### 2. Loop with string instead"
   ]
  },
  {
   "cell_type": "code",
   "execution_count": 54,
   "metadata": {},
   "outputs": [
    {
     "name": "stdout",
     "output_type": "stream",
     "text": [
      "0\n",
      "Enter your phone no. :1\n",
      "Thai phone no. must have length equal 10\n",
      "1\n",
      "Enter your phone no. :2\n",
      "Thai phone no. must have length equal 10\n",
      "2\n",
      "Enter your phone no. :3\n",
      "Thai phone no. must have length equal 10\n",
      "You have wrong input more than 3 times\n"
     ]
    }
   ],
   "source": [
    "count  = 0\n",
    "limit = 3\n",
    "while count < limit:\n",
    "    print(count)\n",
    "    phone = input('Enter your phone no. :') # String\n",
    "    # Check length == 10\n",
    "    if len(phone) == 10:\n",
    "        sum = 0\n",
    "        for digit in phone:\n",
    "            int_digit = int(digit)\n",
    "            sum = sum + int_digit\n",
    "        print('Summation of your phone no. is', sum)\n",
    "        break\n",
    "    else:\n",
    "        print('Thai phone no. must have length equal 10')\n",
    "    count = count + 1\n",
    "else:\n",
    "    print('You have wrong input more than 3 times')"
   ]
  },
  {
   "cell_type": "code",
   "execution_count": 42,
   "metadata": {},
   "outputs": [
    {
     "name": "stdout",
     "output_type": "stream",
     "text": [
      "A d a F a c t o r "
     ]
    }
   ],
   "source": [
    "for letter in 'AdaFactor':\n",
    "    print(letter, end=' ') #Print function will talk later"
   ]
  },
  {
   "cell_type": "markdown",
   "metadata": {},
   "source": [
    "##### 3. need an index? it's a easy task in your life^^"
   ]
  },
  {
   "cell_type": "code",
   "execution_count": 11,
   "metadata": {},
   "outputs": [
    {
     "name": "stdout",
     "output_type": "stream",
     "text": [
      "0 : A\n",
      "1 : d\n",
      "2 : a\n",
      "3 : F\n",
      "4 : a\n",
      "5 : c\n",
      "6 : t\n",
      "7 : o\n",
      "8 : r\n"
     ]
    }
   ],
   "source": [
    "for index, ele in enumerate('AdaFactor'):\n",
    "    print(index, ':', ele)"
   ]
  },
  {
   "cell_type": "markdown",
   "metadata": {},
   "source": [
    "##### 5. For loop with sequence"
   ]
  },
  {
   "cell_type": "code",
   "execution_count": 12,
   "metadata": {},
   "outputs": [
    {
     "name": "stdout",
     "output_type": "stream",
     "text": [
      "Thor\n",
      "Dr.Strange\n",
      "Hulk\n",
      "Ironman\n",
      "Spiderman\n"
     ]
    }
   ],
   "source": [
    "heros = ('Thor', 'Dr.Strange', 'Hulk', 'Ironman', 'Spiderman')\n",
    "for hero in heros:\n",
    "    print(hero)"
   ]
  },
  {
   "cell_type": "markdown",
   "metadata": {},
   "source": [
    "5.1 Want more than a hero each round"
   ]
  },
  {
   "cell_type": "code",
   "execution_count": 13,
   "metadata": {},
   "outputs": [
    {
     "name": "stdout",
     "output_type": "stream",
     "text": [
      "Thor  vs  Dr.Strange\n",
      "Dr.Strange  vs  Hulk\n",
      "Hulk  vs  Ironman\n",
      "Ironman  vs  Spiderman\n"
     ]
    }
   ],
   "source": [
    "for i in range(len(heros)):\n",
    "    if i+1 >= len(heros):\n",
    "        break\n",
    "    print(heros[i], ' vs ', heros[i+1])"
   ]
  },
  {
   "cell_type": "markdown",
   "metadata": {},
   "source": [
    "### Exercise 2\n",
    "Loop techniques"
   ]
  },
  {
   "cell_type": "markdown",
   "metadata": {},
   "source": [
    "###### 2.1 Write a program to verify that an input word has a vowel"
   ]
  },
  {
   "cell_type": "code",
   "execution_count": 56,
   "metadata": {},
   "outputs": [
    {
     "name": "stdout",
     "output_type": "stream",
     "text": [
      "Enter a word: shll\n"
     ]
    }
   ],
   "source": [
    "'''Program 2.1 verifying vowels containing in a word'''\n",
    "vowels = 'aeiouAEIOU'\n",
    "word = input('Enter a word: ')\n",
    "for w in word:\n",
    "    if w in vowels:\n",
    "        print('VOWELS!!')\n",
    "        break\n",
    "    else:\n",
    "        continue\n",
    " "
   ]
  },
  {
   "cell_type": "markdown",
   "metadata": {},
   "source": [
    "###### 2.2 Infinity loop for rolling a dice"
   ]
  },
  {
   "cell_type": "code",
   "execution_count": 20,
   "metadata": {},
   "outputs": [
    {
     "name": "stdout",
     "output_type": "stream",
     "text": [
      "Enter a dice score [1-6]: 1\n",
      "Score: 1\n",
      "Enter a dice score [1-6]: 2\n",
      "Score: 2\n",
      "Enter a dice score [1-6]: 99\n",
      "End Program 2.2\n"
     ]
    }
   ],
   "source": [
    "''' Program 2.2 Rolling a dice by infinity loop'''\n",
    "score = 0\n",
    "while True:\n",
    "    score = input('Enter a dice score [1-6]: ')\n",
    "    score = int(score)\n",
    "    if score in [1, 2, 3, 4, 5, 6]:\n",
    "        print('Score:', score)\n",
    "    elif score == 99:\n",
    "        break\n",
    "    else:\n",
    "        print('Out of range')\n",
    "print('End Program 2.2')"
   ]
  },
  {
   "cell_type": "markdown",
   "metadata": {},
   "source": [
    "### 4. String Method\n",
    "for this topic we gonna talking about a \"STRING\" we quiet familar with it because of most programming language\n",
    "has it. So, let's see in Python how cool is it^^"
   ]
  },
  {
   "cell_type": "markdown",
   "metadata": {},
   "source": [
    "###### 4.1  Declare string"
   ]
  },
  {
   "cell_type": "code",
   "execution_count": null,
   "metadata": {
    "collapsed": true
   },
   "outputs": [],
   "source": [
    "word = 'ada'"
   ]
  },
  {
   "cell_type": "markdown",
   "metadata": {},
   "source": [
    "###### 4.2 Multiply a string"
   ]
  },
  {
   "cell_type": "code",
   "execution_count": 57,
   "metadata": {},
   "outputs": [
    {
     "ename": "TypeError",
     "evalue": "can't multiply sequence by non-int of type 'str'",
     "output_type": "error",
     "traceback": [
      "\u001b[0;31m---------------------------------------------------------------------------\u001b[0m",
      "\u001b[0;31mTypeError\u001b[0m                                 Traceback (most recent call last)",
      "\u001b[0;32m<ipython-input-57-c6966fba4940>\u001b[0m in \u001b[0;36m<module>\u001b[0;34m()\u001b[0m\n\u001b[1;32m      1\u001b[0m \u001b[0ma\u001b[0m \u001b[0;34m=\u001b[0m \u001b[0;34m'10'\u001b[0m\u001b[0;34m\u001b[0m\u001b[0m\n\u001b[1;32m      2\u001b[0m \u001b[0mb\u001b[0m \u001b[0;34m=\u001b[0m \u001b[0;34m'12'\u001b[0m\u001b[0;34m\u001b[0m\u001b[0m\n\u001b[0;32m----> 3\u001b[0;31m \u001b[0mprint\u001b[0m\u001b[0;34m(\u001b[0m\u001b[0ma\u001b[0m\u001b[0;34m*\u001b[0m\u001b[0mb\u001b[0m\u001b[0;34m)\u001b[0m\u001b[0;34m\u001b[0m\u001b[0m\n\u001b[0m",
      "\u001b[0;31mTypeError\u001b[0m: can't multiply sequence by non-int of type 'str'"
     ]
    }
   ],
   "source": [
    "a = '10'\n",
    "b = '12'\n",
    "print(a*b)"
   ]
  },
  {
   "cell_type": "markdown",
   "metadata": {},
   "source": [
    "###### 4.3 Append string"
   ]
  },
  {
   "cell_type": "code",
   "execution_count": 58,
   "metadata": {},
   "outputs": [
    {
     "name": "stdout",
     "output_type": "stream",
     "text": [
      "ArkaneKaminkure\n"
     ]
    }
   ],
   "source": [
    "first = 'Arkane'\n",
    "last = 'Kaminkure'\n",
    "full = first+last\n",
    "print(full)\n"
   ]
  },
  {
   "cell_type": "markdown",
   "metadata": {},
   "source": [
    "###### 4.4 Find match string and returning a begin index"
   ]
  },
  {
   "cell_type": "code",
   "execution_count": null,
   "metadata": {
    "collapsed": true
   },
   "outputs": [],
   "source": [
    "'''\n",
    "string.find('target')\n",
    "len(string) --> return length of string\n",
    "'''\n",
    "test_string = 'Hello, Ada'\n",
    "\n"
   ]
  },
  {
   "cell_type": "markdown",
   "metadata": {},
   "source": [
    "###### 4.5 Let's find the best method for concating strings"
   ]
  },
  {
   "cell_type": "markdown",
   "metadata": {},
   "source": [
    "4.5.1 Plus"
   ]
  },
  {
   "cell_type": "code",
   "execution_count": null,
   "metadata": {
    "collapsed": true
   },
   "outputs": [],
   "source": [
    "str1 = 'Ada'\n",
    "str2 = 'Factor'\n",
    "concated = str1+str2\n",
    "print(concated)\n"
   ]
  },
  {
   "cell_type": "markdown",
   "metadata": {},
   "source": [
    "4.5.2 Join"
   ]
  },
  {
   "cell_type": "code",
   "execution_count": 62,
   "metadata": {},
   "outputs": [
    {
     "name": "stdout",
     "output_type": "stream",
     "text": [
      "Ada Factor Ada\n"
     ]
    }
   ],
   "source": [
    "str1 = 'Ada'\n",
    "str2 = 'Factor'\n",
    "concated = ' '.join([str1, str2, str1])\n",
    "print(concated)"
   ]
  },
  {
   "cell_type": "markdown",
   "metadata": {},
   "source": [
    "4.5.3 Format"
   ]
  },
  {
   "cell_type": "code",
   "execution_count": 65,
   "metadata": {},
   "outputs": [
    {
     "name": "stdout",
     "output_type": "stream",
     "text": [
      "Ada Factor\n"
     ]
    }
   ],
   "source": [
    "str1 = 'Ada'\n",
    "str2 = 'Factor'\n",
    "concated = '{} {}'.format(str1, str2) \n",
    "print( concated )\n"
   ]
  },
  {
   "cell_type": "markdown",
   "metadata": {},
   "source": [
    "4.5.4 Interpolation"
   ]
  },
  {
   "cell_type": "code",
   "execution_count": 68,
   "metadata": {},
   "outputs": [
    {
     "name": "stdout",
     "output_type": "stream",
     "text": [
      "Ada Factor 3.415\n"
     ]
    }
   ],
   "source": [
    "str1 = 'Ada'\n",
    "str2 = 'Factor'\n",
    "num = 3.414526539\n",
    "concated = '%s %s %.3f' % (str1, str2, num)\n",
    "print( concated )\n"
   ]
  },
  {
   "cell_type": "markdown",
   "metadata": {
    "collapsed": true
   },
   "source": [
    "### 5. Declaring a function\n",
    "<strong>\"Function names should be lowercase, with words separated by underscores as necessary to improve readability.\"</strong>\n",
    "<cite>- PEP8</cite>"
   ]
  },
  {
   "cell_type": "code",
   "execution_count": null,
   "metadata": {
    "collapsed": true
   },
   "outputs": [],
   "source": [
    "# Syntax look like this\n",
    "def ada_function(n):\n",
    "    print(n)"
   ]
  },
  {
   "cell_type": "markdown",
   "metadata": {},
   "source": [
    "#### Return 1 value"
   ]
  },
  {
   "cell_type": "code",
   "execution_count": null,
   "metadata": {
    "collapsed": true
   },
   "outputs": [],
   "source": [
    "def ada_plus(n):\n",
    "    return n+1"
   ]
  },
  {
   "cell_type": "markdown",
   "metadata": {},
   "source": [
    "#### Return more values"
   ]
  },
  {
   "cell_type": "code",
   "execution_count": 69,
   "metadata": {},
   "outputs": [
    {
     "name": "stdout",
     "output_type": "stream",
     "text": [
      "Previous position: 9 \n",
      "Next position: 11\n",
      "1 2 3\n"
     ]
    }
   ],
   "source": [
    "def ada_position(cur):\n",
    "    return cur-1, cur+1\n",
    "\n",
    "def ada_next_threestep(k):\n",
    "    return k+1, k+2, k+3\n",
    "\n",
    "prev_pos, next_pos = ada_position(10)\n",
    "print(\" \".join([\"Previous position:\", str(prev_pos), \"\\nNext position:\", str(next_pos)]))\n",
    "\n",
    "a, b, c = ada_next_threestep(0)\n",
    "print(a, b, c)\n"
   ]
  },
  {
   "cell_type": "markdown",
   "metadata": {},
   "source": [
    "### 6. Class Class Class in Python\n",
    "<strong>Class names should normally use the CapWords convention.</strong><br />\n",
    "and <strong>Always use self for the first argument to instance methods.</strong><br />\n",
    "<cite>- PEP8</cite>"
   ]
  },
  {
   "cell_type": "code",
   "execution_count": 71,
   "metadata": {},
   "outputs": [],
   "source": [
    "class Adagroup:\n",
    "    def __init__(self):\n",
    "        self.__devote_to = 'Ada'\n",
    "    \n",
    "    def devotee_of(self):\n",
    "        print('Devotee of {0}'.format(self.__devote_to))\n",
    "\n",
    "class Adafactor(Adagroup):\n",
    "    '''Adafactor is an example class'''\n",
    "    counter = 0\n",
    "    \n",
    "    def __init__(self, name, surname):\n",
    "        super().__init__()\n",
    "        self.__name = name\n",
    "        self.__surname = surname\n",
    "        Adafactor.counter += 1\n",
    "    \n",
    "    def __str__(self):\n",
    "        return 'Adafactor(name={0}, surname={1})'.format(self.__name, self.__surname)\n",
    "    \n",
    "    def display_fullname(self):\n",
    "        print('Fullname: {0} {1}'.format(self.__name, self.__surname))"
   ]
  },
  {
   "cell_type": "code",
   "execution_count": 72,
   "metadata": {},
   "outputs": [
    {
     "name": "stdout",
     "output_type": "stream",
     "text": [
      "Fullname: Ada de Sions\n",
      "Devotee of Ada\n"
     ]
    }
   ],
   "source": [
    "a1 = Adafactor('Ada', 'de Sions')\n",
    "a2 = Adafactor(surname='Factor', name=\"Ada\")\n",
    "\n",
    "a1.display_fullname()\n",
    "a1.devotee_of()"
   ]
  }
 ],
 "metadata": {
  "kernelspec": {
   "display_name": "Python 3",
   "language": "python",
   "name": "python3"
  },
  "language_info": {
   "codemirror_mode": {
    "name": "ipython",
    "version": 3
   },
   "file_extension": ".py",
   "mimetype": "text/x-python",
   "name": "python",
   "nbconvert_exporter": "python",
   "pygments_lexer": "ipython3",
<<<<<<< HEAD
   "version": "3.6.3"
=======
   "version": "3.6.5"
>>>>>>> rollback
  }
 },
 "nbformat": 4,
 "nbformat_minor": 2
}
